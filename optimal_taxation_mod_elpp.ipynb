{
 "cells": [
  {
   "cell_type": "code",
   "execution_count": 1,
   "id": "f0030597",
   "metadata": {},
   "outputs": [],
   "source": [
    "using Distributions, LinearAlgebra\n",
    "using JuMP, GLPK\n",
    "using Plots, StatsPlots"
   ]
  },
  {
   "cell_type": "code",
   "execution_count": 2,
   "id": "e80e008a",
   "metadata": {},
   "outputs": [
    {
     "data": {
      "text/plain": [
       "Plots.GRBackend()"
      ]
     },
     "execution_count": 2,
     "metadata": {},
     "output_type": "execute_result"
    }
   ],
   "source": [
    "gr(size=(500,500), html_output_format=:png)"
   ]
  },
  {
   "cell_type": "markdown",
   "id": "16cd7113",
   "metadata": {},
   "source": [
    "The basic idea here is that we modify ELP.P so that it observes a set of graphs $\\mathcal{G}_t = (G_{1,t}, G_{2,t}, ... G_{C,t})$ at time $t$. The probability $p_{g, i, t}^{(meta)}$ of the observed feedback being drawn from graph $g$ is some categorical distribution for each action $i$. We will assume the distribution is fixed but ideally would like to allow adversarial ordering (analogous to the standard adversarial bandit setting). If we were informed of these probabilities at the beginning of a round, then I believe we can simply modify the ELP.P linear program to maximize the minimum of the weighted sum of the probabilities of observing each vertex. \n",
    "\n",
    "If we are not informed of these probabilities, as in our setting, things are more complicated. In the optimal tax setting the probabilities are dependent on the reward, but again we can preserve the generality by not requiring that (and I think this probably does not lose us too much if any efficiency).\n",
    "\n",
    "So we observe a set of graphs, take an action, and then the losses and the selected graph are observed. Importantly we do not learn which graph would have been selected for all vertives. In the optimal tax setting there is in fact a kind of recursive problem where we learn which graph would have been selected for all vertices where we observe losses, that is all vertices in the neighborhood of the selected vertex for the graph that was chosen. \n",
    "\n",
    "In our case the \"meta\" feedback system that indicates when we learn which graph would have been associated with each vertex is identical to the feedback system for the losses, but in full generality this need not be the case. I think there's probably an optimal way to estimate the probabilites without infinite recursion but I am not sure what it would be. To me its tempting to try to run a modified version of EXP3-SET to estimate the probabilites, and then run ELP.P with a couple minor modifications. \n",
    "\n",
    "Different from all settings in the original paper we do not observe the information required to estimate $q_{it}$ in full. In round $t$ we play an action and learn the graph $g_{I_t}$ that determines the feedback for the losses, and for some subset $S_t$ of vertices we observe which graph would have been the feedback system had that vertext been selected. This means we do not observe enough information to calculate $q_{it}$. We can instead estimate \n",
    "\n",
    "\\begin{align}\n",
    "\\hat q_{it} &= q_{it}^{(obs)} + q_{it}^{(est)}\\\\\n",
    "q_{it}^{(obs)} &= \\sum_{j \\in G_{g_{I_t}, t} | j \\rightarrow i} p_{j, t}\\\\\n",
    "q_{it}^{(est)} &= \\sum_{g = 1}^C \\sum_{j \\in G_{g, t} | j \\rightarrow i} p_{g, i, t}^{(meta)} p_{j, t}\n",
    "\\end{align}\n",
    "\n",
    "Using this estimator for $q_{it}$ I think we can run the modified ELP.P as above using the estimated probabilities p_{g,i,t} as though they were given, and updating these probabilities according to the Exp3-Set update rule with the cross entropy loss."
   ]
  },
  {
   "cell_type": "markdown",
   "id": "68a24845",
   "metadata": {},
   "source": []
  },
  {
   "cell_type": "code",
   "execution_count": 3,
   "id": "324fe48c",
   "metadata": {},
   "outputs": [
    {
     "data": {
      "text/plain": [
       "elpp (generic function with 1 method)"
      ]
     },
     "execution_count": 3,
     "metadata": {},
     "output_type": "execute_result"
    }
   ],
   "source": [
    "function elpp2(K, T, G, R, delta, eta, eta_meta)\n",
    "    w = ones(K, T + 1)\n",
    "    w_meta = ones(2, K, T + 1)\n",
    "    beta = 2 * eta * sqrt(log(5 * K / delta) / log(K))\n",
    "    for t in 1:T\n",
    "        G_t = G(t)\n",
    "        p_t_meta = w_meta[:, :, t] ./ sum(w_meta[:, :, t], dims=1)\n",
    "        model = Model(GLPK.Optimizer)\n",
    "        @variable(model, s[1:K])\n",
    "        @variable(model, min_s)\n",
    "        @constraint(model, c1, sum(s) == 1)\n",
    "        @constraint(model, c2, s .>= 0)\n",
    "        @constraint(model, c3, p_t_meta[1, :] .* (G_t[1] * s) + \\\n",
    "                               p_t_meta[2, :] .* (G_t[2] * s)   \\\n",
    "                               .>= min_s)\n",
    "        @objective(model, Max, min_s)\n",
    "        optimize!(model)\n",
    "        nu_t = (1 + beta) * eta / value(min_s)\n",
    "        p_t = (1 - nu_t) * w[:, t] / sum(w[:, t]) + nu_t * value.(s)\n",
    "        a_t = rand(Categorical(p_t))\n",
    "        R_t, g_t = R(t)\n",
    "        q_t = G_t[g_t] * p_t\n",
    "        hat_R_t = (G_t[g_t][:, a_t] .* R_t .+ beta) ./ q_t\n",
    "        w[:, t+1] = w[:, t] .* exp.(eta * hat_R_t)\n",
    "    end\n",
    "    return w\n",
    "end    "
   ]
  },
  {
   "cell_type": "code",
   "execution_count": 4,
   "id": "7988a02a",
   "metadata": {},
   "outputs": [
    {
     "data": {
      "text/plain": [
       "gen_G (generic function with 1 method)"
      ]
     },
     "execution_count": 4,
     "metadata": {},
     "output_type": "execute_result"
    }
   ],
   "source": [
    "K = 100\n",
    "G_1 = UpperTriangular(ones(K, K))\n",
    "G_0 = UpperTriangular(ones(K, K))'\n",
    "\n",
    "gen_G(t, a_t) = G_1, G_0"
   ]
  },
  {
   "cell_type": "code",
   "execution_count": 5,
   "id": "505de8dd",
   "metadata": {},
   "outputs": [
    {
     "data": {
      "image/png": "[encoded data removed]"
     },
     "execution_count": 5,
     "metadata": {},
     "output_type": "execute_result"
    }
   ],
   "source": [
    "d = Beta(1, 10);\n",
    "plot(d)"
   ]
  },
  {
   "cell_type": "code",
   "execution_count": 20,
   "id": "d7127d20",
   "metadata": {},
   "outputs": [
    {
     "data": {
      "text/plain": [
       "gen_R (generic function with 1 method)"
      ]
     },
     "execution_count": 20,
     "metadata": {},
     "output_type": "execute_result"
    }
   ],
   "source": [
    "arm_levels = cumsum(ones(K) / (K + 1))\n",
    "floor = 1\n",
    "arm_rewards = (floor .+ (1 - floor) * arm_levels)\n",
    "function gen_R(t, a_t) \n",
    "    # for now only 2 graphs, one condition\n",
    "    R = arm_rewards .* (arm_levels .< rand(d))\n",
    "    return R, Int(R[a_t] == 0)\n",
    "end"
   ]
  },
  {
   "cell_type": "code",
   "execution_count": 21,
   "id": "4abc7aca",
   "metadata": {},
   "outputs": [
    {
     "ename": "LoadError",
     "evalue": "MethodError: no method matching gen_G(::Int64)\nClosest candidates are:\n  gen_G(::Any, !Matched::Any) at In[4]:5",
     "output_type": "error",
     "traceback": [
      "MethodError: no method matching gen_G(::Int64)\nClosest candidates are:\n  gen_G(::Any, !Matched::Any) at In[4]:5",
      "",
      "Stacktrace:",
      " [1] elpp(::Int64, ::Int64, ::typeof(gen_G), ::typeof(gen_R), ::Float64, ::Float64) at ./In[3]:5",
      " [2] top-level scope at In[21]:4",
      " [3] include_string(::Function, ::Module, ::String, ::String) at ./loading.jl:1091"
     ]
    }
   ],
   "source": [
    "eta = 1 / (3 * K) \n",
    "delta = 0.1\n",
    "T = 10000\n",
    "w = elpp(K, T, gen_G, gen_R, delta, eta)\n",
    "print(sortperm(w[:, T + 1]))"
   ]
  },
  {
   "cell_type": "code",
   "execution_count": 22,
   "id": "161c9503",
   "metadata": {},
   "outputs": [
    {
     "data": {
      "text/plain": [
       "([1.0, 1.0, 1.0, 0.0, 0.0, 0.0, 0.0, 0.0, 0.0, 0.0  …  0.0, 0.0, 0.0, 0.0, 0.0, 0.0, 0.0, 0.0, 0.0, 0.0], 1)"
      ]
     },
     "execution_count": 22,
     "metadata": {},
     "output_type": "execute_result"
    }
   ],
   "source": [
    "gen_R(0, 90)"
   ]
  },
  {
   "cell_type": "code",
   "execution_count": 23,
   "id": "9e352429",
   "metadata": {},
   "outputs": [
    {
     "data": {
      "text/plain": [
       "2×100×10001 Array{Float64,3}:\n",
       "[:, :, 1] =\n",
       " 1.0  1.0  1.0  1.0  1.0  1.0  1.0  1.0  …  1.0  1.0  1.0  1.0  1.0  1.0  1.0\n",
       " 1.0  1.0  1.0  1.0  1.0  1.0  1.0  1.0     1.0  1.0  1.0  1.0  1.0  1.0  1.0\n",
       "\n",
       "[:, :, 2] =\n",
       " 1.0  1.0  1.0  1.0  1.0  1.0  1.0  1.0  …  1.0  1.0  1.0  1.0  1.0  1.0  1.0\n",
       " 1.0  1.0  1.0  1.0  1.0  1.0  1.0  1.0     1.0  1.0  1.0  1.0  1.0  1.0  1.0\n",
       "\n",
       "[:, :, 3] =\n",
       " 1.0  1.0  1.0  1.0  1.0  1.0  1.0  1.0  …  1.0  1.0  1.0  1.0  1.0  1.0  1.0\n",
       " 1.0  1.0  1.0  1.0  1.0  1.0  1.0  1.0     1.0  1.0  1.0  1.0  1.0  1.0  1.0\n",
       "\n",
       "...\n",
       "\n",
       "[:, :, 9999] =\n",
       " 1.0  1.0  1.0  1.0  1.0  1.0  1.0  1.0  …  1.0  1.0  1.0  1.0  1.0  1.0  1.0\n",
       " 1.0  1.0  1.0  1.0  1.0  1.0  1.0  1.0     1.0  1.0  1.0  1.0  1.0  1.0  1.0\n",
       "\n",
       "[:, :, 10000] =\n",
       " 1.0  1.0  1.0  1.0  1.0  1.0  1.0  1.0  …  1.0  1.0  1.0  1.0  1.0  1.0  1.0\n",
       " 1.0  1.0  1.0  1.0  1.0  1.0  1.0  1.0     1.0  1.0  1.0  1.0  1.0  1.0  1.0\n",
       "\n",
       "[:, :, 10001] =\n",
       " 1.0  1.0  1.0  1.0  1.0  1.0  1.0  1.0  …  1.0  1.0  1.0  1.0  1.0  1.0  1.0\n",
       " 1.0  1.0  1.0  1.0  1.0  1.0  1.0  1.0     1.0  1.0  1.0  1.0  1.0  1.0  1.0"
      ]
     },
     "execution_count": 23,
     "metadata": {},
     "output_type": "execute_result"
    }
   ],
   "source": [
    "w_c = ones(2, K, T + 1)"
   ]
  },
  {
   "cell_type": "code",
   "execution_count": 36,
   "id": "6346cf2c",
   "metadata": {},
   "outputs": [
    {
     "data": {
      "text/plain": [
       "2×100 Array{Float64,2}:\n",
       " 0.5  0.5  0.5  0.5  0.5  0.5  0.5  0.5  …  0.5  0.5  0.5  0.5  0.5  0.5  0.5\n",
       " 0.5  0.5  0.5  0.5  0.5  0.5  0.5  0.5     0.5  0.5  0.5  0.5  0.5  0.5  0.5"
      ]
     },
     "execution_count": 36,
     "metadata": {},
     "output_type": "execute_result"
    }
   ],
   "source": [
    "p_c_t = w_c[:, :, 1] ./ sum(w_c[:, :, 1], dims=1)"
   ]
  },
  {
   "cell_type": "code",
   "execution_count": 35,
   "id": "06679057",
   "metadata": {},
   "outputs": [
    {
     "data": {
      "text/plain": [
       "1×100 Array{Float64,2}:\n",
       " 2.0  2.0  2.0  2.0  2.0  2.0  2.0  2.0  …  2.0  2.0  2.0  2.0  2.0  2.0  2.0"
      ]
     },
     "execution_count": 35,
     "metadata": {},
     "output_type": "execute_result"
    }
   ],
   "source": [
    "sum(w_c[:, :, 1], dims=1)"
   ]
  },
  {
   "cell_type": "code",
   "execution_count": null,
   "id": "cff84c05",
   "metadata": {},
   "outputs": [],
   "source": []
  }
 ],
 "metadata": {
  "kernelspec": {
   "display_name": "Julia 1.5.2",
   "language": "julia",
   "name": "julia-1.5"
  },
  "language_info": {
   "file_extension": ".jl",
   "mimetype": "application/julia",
   "name": "julia",
   "version": "1.5.2"
  }
 },
 "nbformat": 4,
 "nbformat_minor": 5
}
